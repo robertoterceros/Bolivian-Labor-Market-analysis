{
 "cells": [
  {
   "cell_type": "code",
   "execution_count": 1,
   "metadata": {},
   "outputs": [],
   "source": [
    "import requests\n",
    "from bs4 import BeautifulSoup\n",
    "import pymysql\n",
    "import re"
   ]
  },
  {
   "cell_type": "code",
   "execution_count": 2,
   "metadata": {},
   "outputs": [],
   "source": [
    "def get_job_info(trabajo_link):\n",
    "    \"\"\"El input es un enlace que dirige a una única oferta de trabajo. Devuelve un tuple con la información más relevante: descripción del anuncio y del trabajo\"\"\"\n",
    "    anuncio_list = []\n",
    "    description_list = []\n",
    "    import requests\n",
    "    from bs4 import BeautifulSoup\n",
    "    try:\n",
    "        response = get_page(trabajo_link)\n",
    "        result_page = BeautifulSoup(response.content,'lxml')\n",
    "        anuncio_list = get_anuncio_list(result_page)\n",
    "        description_list = get_job_description(result_page)\n",
    "        empresa_name = get_name_empresa(result_page)\n",
    "        output = unify_lists([empresa_name, anuncio_list, description_list])\n",
    "        return output\n",
    "    except:\n",
    "        return None"
   ]
  },
  {
   "cell_type": "code",
   "execution_count": 3,
   "metadata": {},
   "outputs": [],
   "source": [
    "def get_page(url):\n",
    "    response = requests.get(url)\n",
    "    if not response.status_code == 200:\n",
    "        print(\"It didn't work\")\n",
    "    return response"
   ]
  },
  {
   "cell_type": "code",
   "execution_count": 4,
   "metadata": {},
   "outputs": [],
   "source": [
    "def get_anuncio_list(result_page):\n",
    "    '''This function recover the information concerning ID Empleo, Categoria, Ubicación, etc'''\n",
    "    anuncio_list = []\n",
    "    for info in result_page.find_all('div', class_='smallListingInfo'):\n",
    "        if not 'Primera' in info.get_text(): #Exclude 'Primera Publicacion'\n",
    "            if not 'Contrato' in info.get_text():\n",
    "                anuncio_item = info.get_text()\n",
    "                anuncio_item = anuncio_item[anuncio_item.find(':')+2:]\n",
    "                anuncio_list.append(anuncio_item.replace('\\n',''))  #Get items without \\n\n",
    "                #anuncio_list.append(info.get_text().replace('\\n',''))\n",
    "    return anuncio_list"
   ]
  },
  {
   "cell_type": "code",
   "execution_count": 5,
   "metadata": {},
   "outputs": [],
   "source": [
    "def get_job_description(result_page):\n",
    "    text = ''\n",
    "    for paragraph in result_page.find_all('p'):\n",
    "        if paragraph.text != \"\\n\":\n",
    "            text = text + paragraph.text\n",
    "    text = clean_text(text)\n",
    "    return text"
   ]
  },
  {
   "cell_type": "code",
   "execution_count": 6,
   "metadata": {},
   "outputs": [],
   "source": [
    "def get_name_empresa(result_page):\n",
    "    Enterprise_information = result_page.find('div', class_ = 'compProfileInfo')\n",
    "    return Enterprise_information.find('strong').get_text()"
   ]
  },
  {
   "cell_type": "code",
   "execution_count": 7,
   "metadata": {},
   "outputs": [],
   "source": [
    "def clean_text(text):\n",
    "    import unidecode\n",
    "    text = text.lower().replace('\\n','') #Get items without \\n\n",
    "    text = re.sub(\"(\\(\\w+\\))\", '', text) #Delete parenthesis\n",
    "    text = unidecode.unidecode(text) #Delete accents\n",
    "    text = re.sub('[^A-Za-z0-9\\s]','',text) #Delete anything but letters, numbers and spaces\n",
    "    return text"
   ]
  },
  {
   "cell_type": "code",
   "execution_count": 8,
   "metadata": {},
   "outputs": [],
   "source": [
    "def unify_lists(job_list):\n",
    "    new_list = []\n",
    "    new_list.append(job_list[0])\n",
    "    for element in job_list[1]:\n",
    "        new_list.append(element)\n",
    "    new_list.append(job_list[2])\n",
    "    return new_list"
   ]
  },
  {
   "cell_type": "code",
   "execution_count": 9,
   "metadata": {},
   "outputs": [],
   "source": [
    "trabajo_link = \"https://www.trabajopolis.bo/oferta-de-trabajo-y-empleo-en-bolivia/695472/Analista-de-Tesorería.html?searchId=1545862649.53&page=1\"\n",
    "response = get_page(trabajo_link)\n",
    "result_page = BeautifulSoup(response.content,'lxml')\n",
    "anuncio_list = get_anuncio_list(result_page)\n",
    "#description_list = get_job_description(result_page)\n",
    "#empresa_name = get_name_empresa(result_page)\n",
    "#output = unify_lists([empresa_name, anuncio_list, description_list])"
   ]
  },
  {
   "cell_type": "code",
   "execution_count": 10,
   "metadata": {},
   "outputs": [
    {
     "data": {
      "text/plain": [
       "['695472',\n",
       " 'Santa Cruz de la Sierra, Bolivia',\n",
       " 'Contabilidad y Economía ',\n",
       " 'De Bs. 3.000 a Bs. 3.999 ',\n",
       " '19 Diciembre 2018',\n",
       " '18 Enero 2019']"
      ]
     },
     "execution_count": 10,
     "metadata": {},
     "output_type": "execute_result"
    }
   ],
   "source": [
    "anuncio_list"
   ]
  },
  {
   "cell_type": "code",
   "execution_count": 11,
   "metadata": {},
   "outputs": [
    {
     "data": {
      "text/plain": [
       "['NOSSAMODA SRL',\n",
       " '695472',\n",
       " 'Santa Cruz de la Sierra, Bolivia',\n",
       " 'Contabilidad y Economía ',\n",
       " 'De Bs. 3.000 a Bs. 3.999 ',\n",
       " '19 Diciembre 2018',\n",
       " '18 Enero 2019',\n",
       " 'analista de tesoreria formacion titulado en auditoria financiera contaduria publica contaduria general o ramas afines experiencia y conocimientos  tres  anos de experiencia laboral en cargos de igual responsabilidad  elaboracion de conciliaciones bancarias y arqueos de caja elaboracion de flujos de caja gestion de pagos a proveedores locales y extranjeros seguimiento de cuentas pendientes de cobro y depositos de cobranzas del dia  preparacion de estados de cuentas por cobrar y pagar y control de emision de cheques registro contable de pagos a proveedores sueldos finiquitos etc  registro contable de cobros a clientes depositos transferencias etc  conocimiento en sistema contable sai   solidos manejo de windows office excel powerpoint outlook y word competencias  responsabilidad  organizacion  atencion a los detalles las personas interesadas que cumplan con el perfil podran remitir su curriculum vitae indicando su pretension salarial por trabajopolisbo']"
      ]
     },
     "execution_count": 11,
     "metadata": {},
     "output_type": "execute_result"
    }
   ],
   "source": [
    "get_job_info(trabajo_link)"
   ]
  },
  {
   "cell_type": "code",
   "execution_count": 12,
   "metadata": {},
   "outputs": [],
   "source": [
    "def trabajopolis(job_description):\n",
    "    import time\n",
    "\n",
    "    \"\"\" A partir de una (o más) palabras claves  \"\"\"\n",
    "    trabajos_list = []\n",
    "    import requests\n",
    "    from bs4 import BeautifulSoup\n",
    "    for job in job_description:\n",
    "        url = \"http://www.trabajopolis.bo/search-results-jobs/?action=search&listing_type%5Bequal%5D=Job&listings_order_by=desc&JobCategory%5Bmulti_like%5D%5B%5D=&CityBolivia%5Bmulti_like%5D%5B%5D=&PostedWithin%5Bmulti_like%5D%5B%5D=&EmploymentType%5Bmulti_like%5D%5B%5D=&keywords%5Bany_words%5D=\"+ job + \"&page=1&listings_per_page=1000\"\n",
    "        response = requests.get(url)\n",
    "        if response.status_code == 200:\n",
    "            print(\"The request response cycle was successful\")\n",
    "            results_page = BeautifulSoup(response.content,'lxml')\n",
    "            #trabajo_list = list()\n",
    "            trabajos = results_page.findAll('td',{\"class\":\"anuncio-estandar-content\"})\n",
    "            for anuncio in trabajos:\n",
    "                trabajo_link = anuncio.find('a').get('href')\n",
    "                trabajo_name = anuncio.find('b').get_text()\n",
    "                print(trabajo_link)\n",
    "             #   trabajo_list.append((trabajo_name,trabajo_link))\n",
    "            #for trabajo in trabajo_list:\n",
    "                output = get_job_info(trabajo_link)\n",
    "                trabajos_list.append((output,trabajo_name,trabajo_link))\n",
    "            #I need to create a list that save all the extracted data\n",
    "        else:\n",
    "            print(\"The request response cycle work didn't work\")\n",
    "        time.sleep(10) \n",
    "    return trabajos_list"
   ]
  },
  {
   "cell_type": "code",
   "execution_count": 19,
   "metadata": {},
   "outputs": [],
   "source": [
    "job_names = [\"analista\", \"desarrollador\", \"programador\", \"quimico\", \"finanzas\", \"mensajero\", \"albañil\"]\n",
    "job_names1 = [\"Administración\", \"Oficina\", \"Atención\", \"Cliente\", \"Banca\", \"Contabilidad\"]\n",
    "job_names2 = [\"Economía\", \"Dirección\", \"Gerencia\", \"Diseño\", \"Marketing\", \"Ventas\"]\n",
    "job_names3 = [\"Vendedor\", \"Medicina\", \"Profesor\", \"Técnico\", \"Educación\", \"Legal\", \"Asesoría\", \"Turismo\"]"
   ]
  },
  {
   "cell_type": "code",
   "execution_count": 24,
   "metadata": {},
   "outputs": [
    {
     "name": "stdout",
     "output_type": "stream",
     "text": [
      "The request response cycle was successful\n",
      "https://www.trabajopolis.bo/oferta-de-trabajo-y-empleo-en-bolivia/696941/Vendedor(a)---La-Paz.html?searchId=1546399480.34&page=1\n",
      "https://www.trabajopolis.bo/oferta-de-trabajo-y-empleo-en-bolivia/694131/Vendedor(a)-de-Mostrador---Cochabamba.html?searchId=1546399480.34&page=1\n",
      "https://www.trabajopolis.bo/oferta-de-trabajo-y-empleo-en-bolivia/696913/Vendedor(a)-de-Tienda.html?searchId=1546399480.34&page=1\n",
      "https://www.trabajopolis.bo/oferta-de-trabajo-y-empleo-en-bolivia/696909/Vendedor(a).html?searchId=1546399480.34&page=1\n",
      "https://www.trabajopolis.bo/oferta-de-trabajo-y-empleo-en-bolivia/694819/Vendedor(a)-Industrial.html?searchId=1546399480.34&page=1\n",
      "https://www.trabajopolis.bo/oferta-de-trabajo-y-empleo-en-bolivia/695509/Vendedor(a)-de-Sala.html?searchId=1546399480.34&page=1\n",
      "https://www.trabajopolis.bo/oferta-de-trabajo-y-empleo-en-bolivia/694881/Vendedor(a).html?searchId=1546399480.34&page=1\n",
      "https://www.trabajopolis.bo/oferta-de-trabajo-y-empleo-en-bolivia/688323/Vendedor(a)-de-Mostrador---La-Paz.html?searchId=1546399480.34&page=1\n",
      "https://www.trabajopolis.bo/oferta-de-trabajo-y-empleo-en-bolivia/694640/Vendedor(a)---Mercado-Alimentos-y-Bebidas---Santa-Cruz.html?searchId=1546399480.34&page=1\n",
      "https://www.trabajopolis.bo/oferta-de-trabajo-y-empleo-en-bolivia/694178/Vendedor(a)---Oruro.html?searchId=1546399480.34&page=1\n",
      "https://www.trabajopolis.bo/oferta-de-trabajo-y-empleo-en-bolivia/694091/Vendedor(a)-(Sin-experiencia)---Santa-Cruz.html?searchId=1546399480.34&page=1\n",
      "https://www.trabajopolis.bo/oferta-de-trabajo-y-empleo-en-bolivia/693925/Vendedor(a)---Santa-Cruz.html?searchId=1546399480.34&page=1\n",
      "https://www.trabajopolis.bo/oferta-de-trabajo-y-empleo-en-bolivia/692948/Vendedor(a).html?searchId=1546399480.34&page=1\n",
      "https://www.trabajopolis.bo/oferta-de-trabajo-y-empleo-en-bolivia/690612/Vendedor(a)---Oruro.html?searchId=1546399480.34&page=1\n",
      "https://www.trabajopolis.bo/oferta-de-trabajo-y-empleo-en-bolivia/690609/Vendedor(a)---Cochabamba.html?searchId=1546399480.34&page=1\n",
      "https://www.trabajopolis.bo/oferta-de-trabajo-y-empleo-en-bolivia/690607/Vendedor(a)---La-Paz.html?searchId=1546399480.34&page=1\n",
      "https://www.trabajopolis.bo/oferta-de-trabajo-y-empleo-en-bolivia/693246/Vendedor(a)---Canal-Salones-de-Belleza.html?searchId=1546399480.34&page=1\n",
      "https://www.trabajopolis.bo/oferta-de-trabajo-y-empleo-en-bolivia/686669/Asesor(a)-Comercial----Santa-Cruz.html?searchId=1546399480.34&page=1\n",
      "https://www.trabajopolis.bo/oferta-de-trabajo-y-empleo-en-bolivia/692736/Vendedor(a)---Cochabamba.html?searchId=1546399480.34&page=1\n",
      "https://www.trabajopolis.bo/oferta-de-trabajo-y-empleo-en-bolivia/692734/Vendedor(a)---La-Paz.html?searchId=1546399480.34&page=1\n",
      "https://www.trabajopolis.bo/oferta-de-trabajo-y-empleo-en-bolivia/692733/Vendedor(a)---Provincias.html?searchId=1546399480.34&page=1\n",
      "https://www.trabajopolis.bo/oferta-de-trabajo-y-empleo-en-bolivia/685258/Vendedor(a)-Canal-Moderno---Cochabamba.html?searchId=1546399480.34&page=1\n",
      "https://www.trabajopolis.bo/oferta-de-trabajo-y-empleo-en-bolivia/692509/Vendedor(a)-Canal-Mayorista---La-Paz.html?searchId=1546399480.34&page=1\n",
      "https://www.trabajopolis.bo/oferta-de-trabajo-y-empleo-en-bolivia/683045/Coordinador(a)-de-Trade-Marketing.html?searchId=1546399480.34&page=1\n",
      "https://www.trabajopolis.bo/oferta-de-trabajo-y-empleo-en-bolivia/691455/Vendedor(a)---Industrias.html?searchId=1546399480.34&page=1\n",
      "https://www.trabajopolis.bo/oferta-de-trabajo-y-empleo-en-bolivia/683956/Vendedor(a)-de-Maquinaria-Agrícola-o-Insumos-Agrícolas.html?searchId=1546399480.34&page=1\n",
      "https://www.trabajopolis.bo/oferta-de-trabajo-y-empleo-en-bolivia/691495/Vendedor(a)-On-Premise---Santa-Cruz.html?searchId=1546399480.34&page=1\n",
      "https://www.trabajopolis.bo/oferta-de-trabajo-y-empleo-en-bolivia/685255/Vendedor(a)-de-Repuestos-Campo.html?searchId=1546399480.34&page=1\n",
      "https://www.trabajopolis.bo/oferta-de-trabajo-y-empleo-en-bolivia/684110/Vendedor(a)-Oil---Free-Air-Compressor-Technique-Division---La-Paz.html?searchId=1546399480.34&page=1\n",
      "https://www.trabajopolis.bo/oferta-de-trabajo-y-empleo-en-bolivia/691218/Analista--de-Rutas---La-Paz.html?searchId=1546399480.34&page=1\n",
      "The request response cycle was successful\n",
      "https://www.trabajopolis.bo/oferta-de-trabajo-y-empleo-en-bolivia/698231/Ejecutiva(o)-de-Ventas---La-Paz.html?searchId=1546399530.23&page=1\n",
      "https://www.trabajopolis.bo/oferta-de-trabajo-y-empleo-en-bolivia/696941/Vendedor(a)---La-Paz.html?searchId=1546399530.23&page=1\n",
      "https://www.trabajopolis.bo/oferta-de-trabajo-y-empleo-en-bolivia/697611/Visitador(a)-Médico(a)---El-Alto.html?searchId=1546399530.23&page=1\n",
      "https://www.trabajopolis.bo/oferta-de-trabajo-y-empleo-en-bolivia/689035/Representante-Comercial.html?searchId=1546399530.23&page=1\n",
      "https://www.trabajopolis.bo/oferta-de-trabajo-y-empleo-en-bolivia/694010/Médico-de-Central-de-Emergencias.html?searchId=1546399530.23&page=1\n",
      "https://www.trabajopolis.bo/oferta-de-trabajo-y-empleo-en-bolivia/694655/Asistente-de-la-Facultad-de-Ciencias-de-la-Salud---La-Paz.html?searchId=1546399530.23&page=1\n",
      "https://www.trabajopolis.bo/oferta-de-trabajo-y-empleo-en-bolivia/694204/Auxiliar-de-Spa.html?searchId=1546399530.23&page=1\n",
      "https://www.trabajopolis.bo/oferta-de-trabajo-y-empleo-en-bolivia/694149/Instrumentador(a)-Quirúrgico(a).html?searchId=1546399530.23&page=1\n",
      "https://www.trabajopolis.bo/oferta-de-trabajo-y-empleo-en-bolivia/693893/Médico-Cardiólogo.html?searchId=1546399530.23&page=1\n",
      "https://www.trabajopolis.bo/oferta-de-trabajo-y-empleo-en-bolivia/693894/Enfermera(o).html?searchId=1546399530.23&page=1\n",
      "https://www.trabajopolis.bo/oferta-de-trabajo-y-empleo-en-bolivia/693896/Médico-General---Emergenciólogo.html?searchId=1546399530.23&page=1\n",
      "https://www.trabajopolis.bo/oferta-de-trabajo-y-empleo-en-bolivia/693864/Médico-Ecografista-Dopler-y-Partes-Blandas.html?searchId=1546399530.23&page=1\n",
      "https://www.trabajopolis.bo/oferta-de-trabajo-y-empleo-en-bolivia/693863/Médico-Pediatra---Neonatólogo.html?searchId=1546399530.23&page=1\n",
      "https://www.trabajopolis.bo/oferta-de-trabajo-y-empleo-en-bolivia/693860/Médico-Cirujano.html?searchId=1546399530.23&page=1\n",
      "https://www.trabajopolis.bo/oferta-de-trabajo-y-empleo-en-bolivia/693855/Médico-Internista.html?searchId=1546399530.23&page=1\n",
      "https://www.trabajopolis.bo/oferta-de-trabajo-y-empleo-en-bolivia/684157/Técnico-Medio-en-Electromedicina-o-Electrónica.html?searchId=1546399530.23&page=1\n",
      "https://www.trabajopolis.bo/oferta-de-trabajo-y-empleo-en-bolivia/692736/Vendedor(a)---Cochabamba.html?searchId=1546399530.23&page=1\n",
      "https://www.trabajopolis.bo/oferta-de-trabajo-y-empleo-en-bolivia/692734/Vendedor(a)---La-Paz.html?searchId=1546399530.23&page=1\n",
      "https://www.trabajopolis.bo/oferta-de-trabajo-y-empleo-en-bolivia/692733/Vendedor(a)---Provincias.html?searchId=1546399530.23&page=1\n",
      "https://www.trabajopolis.bo/oferta-de-trabajo-y-empleo-en-bolivia/692517/Jefe(a)-Nacional-de-Ventas---Canal-Automotriz.html?searchId=1546399530.23&page=1\n",
      "https://www.trabajopolis.bo/oferta-de-trabajo-y-empleo-en-bolivia/692271/Representante-Comercial---Traumatología---Oruro.html?searchId=1546399530.23&page=1\n",
      "https://www.trabajopolis.bo/oferta-de-trabajo-y-empleo-en-bolivia/692167/Nutricionista.html?searchId=1546399530.23&page=1\n",
      "https://www.trabajopolis.bo/oferta-de-trabajo-y-empleo-en-bolivia/684247/Ejecutivo(a)-de-Cuentas-Públicas---Cochabamba.html?searchId=1546399530.23&page=1\n",
      "https://www.trabajopolis.bo/oferta-de-trabajo-y-empleo-en-bolivia/684271/Técnico-de-Electromedicina---Cochabamba.html?searchId=1546399530.23&page=1\n",
      "https://www.trabajopolis.bo/oferta-de-trabajo-y-empleo-en-bolivia/691066/Regentes-Farmacéuticos(as)---La-Paz.html?searchId=1546399530.23&page=1\n",
      "https://www.trabajopolis.bo/oferta-de-trabajo-y-empleo-en-bolivia/691373/Auxiliar-de-Farmacia.html?searchId=1546399530.23&page=1\n",
      "The request response cycle was successful\n",
      "https://www.trabajopolis.bo/oferta-de-trabajo-y-empleo-en-bolivia/691375/Profesor(a)-de-Física-para-Secundaria.html?searchId=1546399573.54&page=1\n",
      "The request response cycle was successful\n",
      "https://www.trabajopolis.bo/oferta-de-trabajo-y-empleo-en-bolivia/695633/Encargado(a)-de-Servicio-Técnico.html?searchId=1546399587.64&page=1\n",
      "https://www.trabajopolis.bo/oferta-de-trabajo-y-empleo-en-bolivia/690627/Gerente-de-Marca---Santa-Cruz.html?searchId=1546399587.64&page=1\n"
     ]
    },
    {
     "name": "stdout",
     "output_type": "stream",
     "text": [
      "https://www.trabajopolis.bo/oferta-de-trabajo-y-empleo-en-bolivia/690624/Analista-de-Inteligencia-de-Clientes-y-Datos---Santa-Cruz.html?searchId=1546399587.64&page=1\n",
      "https://www.trabajopolis.bo/oferta-de-trabajo-y-empleo-en-bolivia/690850/Técnico-en-Electrónica.html?searchId=1546399587.64&page=1\n",
      "https://www.trabajopolis.bo/oferta-de-trabajo-y-empleo-en-bolivia/697090/Jefe-Comercial-Semi-Nuevo---Santa-Cruz.html?searchId=1546399587.64&page=1\n",
      "https://www.trabajopolis.bo/oferta-de-trabajo-y-empleo-en-bolivia/689980/Pasante-de-Servicio-Técnico---Cochabamba.html?searchId=1546399587.64&page=1\n",
      "https://www.trabajopolis.bo/oferta-de-trabajo-y-empleo-en-bolivia/688999/Ejecutivo(a)-de-Servicio---Santa-Cruz.html?searchId=1546399587.64&page=1\n",
      "https://www.trabajopolis.bo/oferta-de-trabajo-y-empleo-en-bolivia/696283/Ejecutivo(a)-Cobranza-de-Campo--Cobija.html?searchId=1546399587.64&page=1\n",
      "https://www.trabajopolis.bo/oferta-de-trabajo-y-empleo-en-bolivia/688665/Ejecutivo(a)-Comercial.html?searchId=1546399587.64&page=1\n",
      "https://www.trabajopolis.bo/oferta-de-trabajo-y-empleo-en-bolivia/695593/Soporte-Técnico---Santa-Cruz.html?searchId=1546399587.64&page=1\n",
      "https://www.trabajopolis.bo/oferta-de-trabajo-y-empleo-en-bolivia/694172/Técnico-de-Logística---Oruro.html?searchId=1546399587.64&page=1\n",
      "https://www.trabajopolis.bo/oferta-de-trabajo-y-empleo-en-bolivia/693605/Auxiliar-de-Soporte-Técnico---La-Paz.html?searchId=1546399587.64&page=1\n",
      "https://www.trabajopolis.bo/oferta-de-trabajo-y-empleo-en-bolivia/684157/Técnico-Medio-en-Electromedicina-o-Electrónica.html?searchId=1546399587.64&page=1\n",
      "https://www.trabajopolis.bo/oferta-de-trabajo-y-empleo-en-bolivia/692392/Gerente-Técnico(a)---La-Paz.html?searchId=1546399587.64&page=1\n",
      "https://www.trabajopolis.bo/oferta-de-trabajo-y-empleo-en-bolivia/691981/Coordinador(a)-de-Gestión-Técnica.html?searchId=1546399587.64&page=1\n",
      "https://www.trabajopolis.bo/oferta-de-trabajo-y-empleo-en-bolivia/684209/Técnico-en-Refrigeración---Santa-Cruz.html?searchId=1546399587.64&page=1\n",
      "https://www.trabajopolis.bo/oferta-de-trabajo-y-empleo-en-bolivia/684718/Asistente-de-Servicio-Técnico---Santa-Cruz.html?searchId=1546399587.64&page=1\n",
      "https://www.trabajopolis.bo/oferta-de-trabajo-y-empleo-en-bolivia/684271/Técnico-de-Electromedicina---Cochabamba.html?searchId=1546399587.64&page=1\n",
      "https://www.trabajopolis.bo/oferta-de-trabajo-y-empleo-en-bolivia/684900/Conductor(a)---Santa-Cruz.html?searchId=1546399587.64&page=1\n",
      "The request response cycle was successful\n",
      "https://www.trabajopolis.bo/oferta-de-trabajo-y-empleo-en-bolivia/697569/Asistente-de-Decanatura-Académica---Cochabamba.html?searchId=1546399619.95&page=1\n",
      "https://www.trabajopolis.bo/oferta-de-trabajo-y-empleo-en-bolivia/697550/Director(a)-de-la-Carrera-Administración-de-Hotelería-y-Turismo---Santa-Cruz.html?searchId=1546399619.95&page=1\n",
      "https://www.trabajopolis.bo/oferta-de-trabajo-y-empleo-en-bolivia/692505/Coordinadora(or)-Académica(o).html?searchId=1546399619.95&page=1\n",
      "https://www.trabajopolis.bo/oferta-de-trabajo-y-empleo-en-bolivia/692366/Jefe-de-Internacionalización.html?searchId=1546399619.95&page=1\n",
      "https://www.trabajopolis.bo/oferta-de-trabajo-y-empleo-en-bolivia/691375/Profesor(a)-de-Física-para-Secundaria.html?searchId=1546399619.95&page=1\n",
      "The request response cycle was successful\n",
      "https://www.trabajopolis.bo/oferta-de-trabajo-y-empleo-en-bolivia/692431/Responsable-Administrativo(a)---Santa-Cruz.html?searchId=1546399637.95&page=1\n",
      "https://www.trabajopolis.bo/oferta-de-trabajo-y-empleo-en-bolivia/697553/Especialista-de-Desarrollo-de-Nuevos-Productos---Santa-Cruz.html?searchId=1546399637.95&page=1\n",
      "https://www.trabajopolis.bo/oferta-de-trabajo-y-empleo-en-bolivia/697005/Contador(a)---Cobija.html?searchId=1546399637.95&page=1\n",
      "https://www.trabajopolis.bo/oferta-de-trabajo-y-empleo-en-bolivia/696161/Asistente-de-Gerencia.html?searchId=1546399637.95&page=1\n",
      "https://www.trabajopolis.bo/oferta-de-trabajo-y-empleo-en-bolivia/694178/Vendedor(a)---Oruro.html?searchId=1546399637.95&page=1\n",
      "https://www.trabajopolis.bo/oferta-de-trabajo-y-empleo-en-bolivia/693192/Contador(a).html?searchId=1546399637.95&page=1\n",
      "https://www.trabajopolis.bo/oferta-de-trabajo-y-empleo-en-bolivia/694280/Asesor(a)-Legal---La-Paz.html?searchId=1546399637.95&page=1\n",
      "https://www.trabajopolis.bo/oferta-de-trabajo-y-empleo-en-bolivia/694283/Encargado(a)-de-Sucursal.html?searchId=1546399637.95&page=1\n",
      "https://www.trabajopolis.bo/oferta-de-trabajo-y-empleo-en-bolivia/694112/Abogado(a)-Júnior-Tramitador(a).html?searchId=1546399637.95&page=1\n",
      "https://www.trabajopolis.bo/oferta-de-trabajo-y-empleo-en-bolivia/694188/Bodeguero(a)---Oruro.html?searchId=1546399637.95&page=1\n",
      "https://www.trabajopolis.bo/oferta-de-trabajo-y-empleo-en-bolivia/694186/Auxiliar-Contable---Oruro.html?searchId=1546399637.95&page=1\n",
      "https://www.trabajopolis.bo/oferta-de-trabajo-y-empleo-en-bolivia/694172/Técnico-de-Logística---Oruro.html?searchId=1546399637.95&page=1\n",
      "https://www.trabajopolis.bo/oferta-de-trabajo-y-empleo-en-bolivia/694167/Cobrador(a)---Oruro.html?searchId=1546399637.95&page=1\n",
      "https://www.trabajopolis.bo/oferta-de-trabajo-y-empleo-en-bolivia/694166/Profesional-de-Contrataciones-y-Servicios-Generales---Oruro.html?searchId=1546399637.95&page=1\n",
      "https://www.trabajopolis.bo/oferta-de-trabajo-y-empleo-en-bolivia/693990/Secretaria---Oruro.html?searchId=1546399637.95&page=1\n",
      "https://www.trabajopolis.bo/oferta-de-trabajo-y-empleo-en-bolivia/686812/Abogado(a)---Santa-Cruz.html?searchId=1546399637.95&page=1\n",
      "https://www.trabajopolis.bo/oferta-de-trabajo-y-empleo-en-bolivia/693988/Jefe-de-Mantenimiento-Planificado---Oruro.html?searchId=1546399637.95&page=1\n",
      "https://www.trabajopolis.bo/oferta-de-trabajo-y-empleo-en-bolivia/686914/Agente-de-Viajes.html?searchId=1546399637.95&page=1\n",
      "https://www.trabajopolis.bo/oferta-de-trabajo-y-empleo-en-bolivia/693677/Responsable-de-Mantenimiento---Oruro.html?searchId=1546399637.95&page=1\n",
      "https://www.trabajopolis.bo/oferta-de-trabajo-y-empleo-en-bolivia/693782/Asistente-de-Cartera-(Cobranza-de-Cartera-Castigada).html?searchId=1546399637.95&page=1\n",
      "https://www.trabajopolis.bo/oferta-de-trabajo-y-empleo-en-bolivia/686808/Contador(a)---La-Paz.html?searchId=1546399637.95&page=1\n",
      "https://www.trabajopolis.bo/oferta-de-trabajo-y-empleo-en-bolivia/693424/Auxiliar-de-Cartera---Santa-Cruz.html?searchId=1546399637.95&page=1\n",
      "https://www.trabajopolis.bo/oferta-de-trabajo-y-empleo-en-bolivia/683441/Cajero(a)---Trinidad.html?searchId=1546399637.95&page=1\n",
      "https://www.trabajopolis.bo/oferta-de-trabajo-y-empleo-en-bolivia/692498/Gestor(a)-de-Trámites.html?searchId=1546399637.95&page=1\n",
      "The request response cycle was successful\n",
      "https://www.trabajopolis.bo/oferta-de-trabajo-y-empleo-en-bolivia/694280/Asesor(a)-Legal---La-Paz.html?searchId=1546399678.62&page=1\n",
      "https://www.trabajopolis.bo/oferta-de-trabajo-y-empleo-en-bolivia/694112/Abogado(a)-Júnior-Tramitador(a).html?searchId=1546399678.62&page=1\n",
      "https://www.trabajopolis.bo/oferta-de-trabajo-y-empleo-en-bolivia/686812/Abogado(a)---Santa-Cruz.html?searchId=1546399678.62&page=1\n",
      "https://www.trabajopolis.bo/oferta-de-trabajo-y-empleo-en-bolivia/693424/Auxiliar-de-Cartera---Santa-Cruz.html?searchId=1546399678.62&page=1\n",
      "https://www.trabajopolis.bo/oferta-de-trabajo-y-empleo-en-bolivia/692498/Gestor(a)-de-Trámites.html?searchId=1546399678.62&page=1\n",
      "The request response cycle was successful\n",
      "https://www.trabajopolis.bo/oferta-de-trabajo-y-empleo-en-bolivia/698383/Analista-de-Presupuesto-y-Control-de-Gestión---Santa-Cruz.html?searchId=1546399695.38&page=1\n",
      "https://www.trabajopolis.bo/oferta-de-trabajo-y-empleo-en-bolivia/697860/Administrador(a)-de-Base-de-Datos.html?searchId=1546399695.38&page=1\n",
      "https://www.trabajopolis.bo/oferta-de-trabajo-y-empleo-en-bolivia/697550/Director(a)-de-la-Carrera-Administración-de-Hotelería-y-Turismo---Santa-Cruz.html?searchId=1546399695.38&page=1\n",
      "https://www.trabajopolis.bo/oferta-de-trabajo-y-empleo-en-bolivia/689097/Recepcionista---Turno-Mañana.html?searchId=1546399695.38&page=1\n",
      "https://www.trabajopolis.bo/oferta-de-trabajo-y-empleo-en-bolivia/695602/Analista-Comercial---Santa-Cruz.html?searchId=1546399695.38&page=1\n",
      "https://www.trabajopolis.bo/oferta-de-trabajo-y-empleo-en-bolivia/695244/Agente-de-Tráfico---Santa-Cruz.html?searchId=1546399695.38&page=1\n"
     ]
    },
    {
     "name": "stdout",
     "output_type": "stream",
     "text": [
      "https://www.trabajopolis.bo/oferta-de-trabajo-y-empleo-en-bolivia/687528/Encargada(o)-Administrativa(o).html?searchId=1546399695.38&page=1\n",
      "https://www.trabajopolis.bo/oferta-de-trabajo-y-empleo-en-bolivia/694433/Recepcionista-de-Hotel.html?searchId=1546399695.38&page=1\n",
      "https://www.trabajopolis.bo/oferta-de-trabajo-y-empleo-en-bolivia/686914/Agente-de-Viajes.html?searchId=1546399695.38&page=1\n",
      "https://www.trabajopolis.bo/oferta-de-trabajo-y-empleo-en-bolivia/685455/Segundo(a)-de-Cocina.html?searchId=1546399695.38&page=1\n",
      "https://www.trabajopolis.bo/oferta-de-trabajo-y-empleo-en-bolivia/685394/Agente-de-Turismo-Receptivo.html?searchId=1546399695.38&page=1\n",
      "https://www.trabajopolis.bo/oferta-de-trabajo-y-empleo-en-bolivia/692513/Auxiliar-de-Reservas.html?searchId=1546399695.38&page=1\n",
      "https://www.trabajopolis.bo/oferta-de-trabajo-y-empleo-en-bolivia/692512/Coordinador(a)-de-Eventos.html?searchId=1546399695.38&page=1\n"
     ]
    }
   ],
   "source": [
    "Results = trabajopolis(job_names3)"
   ]
  },
  {
   "cell_type": "code",
   "execution_count": 25,
   "metadata": {},
   "outputs": [],
   "source": [
    "import csv\n",
    "outfile = open(\"/Users/Roberto/Documents/Python Scripts/Machine Learning Projects/Labor Market/trabajo.csv\", 'a',newline='')\n",
    "writer = csv.writer(outfile)\n",
    "try:\n",
    "    for i in range(len(Results)):\n",
    "        csvRow = []\n",
    "        for cell in Results[i][0]:\n",
    "            #print(cell)\n",
    "           csvRow.append(cell)\n",
    "        csvRow.append(Results[i][1])\n",
    "        csvRow.append(Results[i][2])\n",
    "        #print(csvRow)\n",
    "        writer.writerow(csvRow)\n",
    "finally:\n",
    "    outfile.close() "
   ]
  },
  {
   "cell_type": "code",
   "execution_count": 23,
   "metadata": {},
   "outputs": [
    {
     "data": {
      "text/plain": [
       "697"
      ]
     },
     "execution_count": 23,
     "metadata": {},
     "output_type": "execute_result"
    }
   ],
   "source": [
    "len(Results)"
   ]
  },
  {
   "cell_type": "code",
   "execution_count": null,
   "metadata": {},
   "outputs": [],
   "source": []
  }
 ],
 "metadata": {
  "kernelspec": {
   "display_name": "Python 3",
   "language": "python",
   "name": "python3"
  },
  "language_info": {
   "codemirror_mode": {
    "name": "ipython",
    "version": 3
   },
   "file_extension": ".py",
   "mimetype": "text/x-python",
   "name": "python",
   "nbconvert_exporter": "python",
   "pygments_lexer": "ipython3",
   "version": "3.6.7"
  }
 },
 "nbformat": 4,
 "nbformat_minor": 2
}
