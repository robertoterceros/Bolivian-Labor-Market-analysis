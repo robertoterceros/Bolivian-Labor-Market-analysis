{
 "cells": [
  {
   "cell_type": "code",
   "execution_count": 177,
   "metadata": {},
   "outputs": [],
   "source": [
    "import requests\n",
    "from bs4 import BeautifulSoup\n",
    "import pymysql\n",
    "import re"
   ]
  },
  {
   "cell_type": "code",
   "execution_count": 267,
   "metadata": {},
   "outputs": [],
   "source": [
    "def get_job_info(trabajo_link):\n",
    "    \"\"\"El input es un enlace que dirige a una única oferta de trabajo. Devuelve un tuple con la información más relevante: descripción del anuncio y del trabajo\"\"\"\n",
    "    anuncio_list = []\n",
    "    description_list = []\n",
    "    import requests\n",
    "    from bs4 import BeautifulSoup\n",
    "    try:\n",
    "        response = get_page(trabajo_link)\n",
    "        result_page = BeautifulSoup(response.content,'lxml')\n",
    "        anuncio_list = get_anuncio_list(result_page)\n",
    "        description_list = get_job_description(result_page)\n",
    "        empresa_name = get_name_empresa(result_page)\n",
    "        output = unify_lists([empresa_name, anuncio_list, description_list])\n",
    "        return output\n",
    "    except:\n",
    "        return None"
   ]
  },
  {
   "cell_type": "code",
   "execution_count": 179,
   "metadata": {},
   "outputs": [],
   "source": [
    "def get_page(url):\n",
    "    response = requests.get(url)\n",
    "    if not response.status_code == 200:\n",
    "        print(\"It didn't work\")\n",
    "    return response"
   ]
  },
  {
   "cell_type": "code",
   "execution_count": 265,
   "metadata": {},
   "outputs": [],
   "source": [
    "def get_anuncio_list(result_page):\n",
    "    '''This function recover the information concerning ID Empleo, Categoria, Ubicación, etc'''\n",
    "    anuncio_list = []\n",
    "    for info in result_page.find_all('div', class_='smallListingInfo'): \n",
    "        anuncio_list.append(info.get_text())\n",
    "    #Delete \\n\n",
    "    anuncio_list[5] = anuncio_list[5][1:-1]\n",
    "    anuncio_list[6] = anuncio_list[6][1:-2]\n",
    "    anuncio_list[7] = anuncio_list[7][1:-1]\n",
    "    return anuncio_list"
   ]
  },
  {
   "cell_type": "code",
   "execution_count": 181,
   "metadata": {},
   "outputs": [],
   "source": [
    "def get_job_description(result_page):\n",
    "    text = ''\n",
    "    for paragraph in result_page.find_all('p'):\n",
    "        if paragraph.text != \"\\n\":\n",
    "            text = text + paragraph.text\n",
    "    text = clean_text(text)\n",
    "    return text"
   ]
  },
  {
   "cell_type": "code",
   "execution_count": 182,
   "metadata": {},
   "outputs": [],
   "source": [
    "def get_name_empresa(result_page):\n",
    "    #response = get_page(trabajo_link)\n",
    "    #result_page = BeautifulSoup(response.content,'lxml')\n",
    "    Enterprise_information = result_page.find('div', class_ = 'compProfileInfo')\n",
    "    #for paragraph in hola.find('strong'):\n",
    "    #    print(paragraph)\n",
    "    return Enterprise_information.find('strong').get_text()"
   ]
  },
  {
   "cell_type": "code",
   "execution_count": 183,
   "metadata": {},
   "outputs": [],
   "source": [
    "def clean_text(text):\n",
    "    import unidecode\n",
    "    text = text.lower()\n",
    "    text = re.sub(\"(\\(\\w+\\))\", '', text) #Delete parenthesis\n",
    "    text = unidecode.unidecode(text) #Delete accents\n",
    "    text = re.sub('[^A-Za-z0-9\\s]','',text) #Delete anything but letters, numbers and spaces\n",
    "    return text"
   ]
  },
  {
   "cell_type": "code",
   "execution_count": 211,
   "metadata": {},
   "outputs": [],
   "source": [
    "def unify_lists(job_list):\n",
    "    new_list = []\n",
    "    new_list.append(job_list[0])\n",
    "    for element in job_list[1]:\n",
    "        new_list.append(element)\n",
    "    new_list.append(job_list[2])\n",
    "    return new_list"
   ]
  },
  {
   "cell_type": "code",
   "execution_count": 184,
   "metadata": {},
   "outputs": [],
   "source": [
    "trabajo_link = \"https://www.trabajopolis.bo/oferta-de-trabajo-y-empleo-en-bolivia/688703/Analista-de-Compras---Santa-Cruz.html?searchId=1545853046.74&page=1\""
   ]
  },
  {
   "cell_type": "code",
   "execution_count": 268,
   "metadata": {},
   "outputs": [
    {
     "data": {
      "text/plain": [
       "['Empresa Comercial',\n",
       " 'ID Empleo: 688703',\n",
       " 'Ubicación: Santa Cruz de la Sierra, Bolivia',\n",
       " 'Categoría: Logística y Almacén,Marketing y Ventas ',\n",
       " 'Sueldo: No Declarado ',\n",
       " 'Contrato: Tiempo Completo',\n",
       " 'Publicado: 20 Diciembre 2018',\n",
       " 'Vencimiento: 19 Enero 2019',\n",
       " 'Primera Publicación: 24 Noviembre 2018',\n",
       " 'empresa boliviana comercializadora de equipamiento medico e insumos para la salud requiere incorporar a su equipo de trabajo unanalista de comprasbase santa cruzobjetivo del puestorevisar analizar y mantener abastecidos los stocks de las diferentes unidades de negocio logrando satisfacer las necesidades de todos clientesformacion y conocimientos requeridos licenciatura en comercio exterior ing comercial yo ramas afines experiencia minima de 3 anos en el cargo se valora experiencia y conocimiento en el area de compras y comercio exterior manejo del idioma ingles a nivel avanzado  manejo de microsoft office a nivel intermedio  avanzado  las personas interesadas que cumplan con el perfil podran remitir su curriculum vitae indicando su pretension salarial por trabajopolisbo']"
      ]
     },
     "execution_count": 268,
     "metadata": {},
     "output_type": "execute_result"
    }
   ],
   "source": [
    "get_job_info(trabajo_link)"
   ]
  },
  {
   "cell_type": "code",
   "execution_count": null,
   "metadata": {},
   "outputs": [],
   "source": []
  }
 ],
 "metadata": {
  "kernelspec": {
   "display_name": "Python 3",
   "language": "python",
   "name": "python3"
  },
  "language_info": {
   "codemirror_mode": {
    "name": "ipython",
    "version": 3
   },
   "file_extension": ".py",
   "mimetype": "text/x-python",
   "name": "python",
   "nbconvert_exporter": "python",
   "pygments_lexer": "ipython3",
   "version": "3.6.7"
  }
 },
 "nbformat": 4,
 "nbformat_minor": 2
}
