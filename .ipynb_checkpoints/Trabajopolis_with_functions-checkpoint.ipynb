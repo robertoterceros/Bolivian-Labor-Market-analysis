{
 "cells": [
  {
   "cell_type": "code",
   "execution_count": 1,
   "metadata": {},
   "outputs": [],
   "source": [
    "import requests\n",
    "from bs4 import BeautifulSoup\n",
    "import pymysql\n",
    "import re"
   ]
  },
  {
   "cell_type": "code",
   "execution_count": 2,
   "metadata": {},
   "outputs": [],
   "source": [
    "def get_job_info(trabajo_link):\n",
    "    \"\"\"El input es un enlace que dirige a una única oferta de trabajo. Devuelve un tuple con la información más relevante: descripción del anuncio y del trabajo\"\"\"\n",
    "    anuncio_list = []\n",
    "    description_list = []\n",
    "    import requests\n",
    "    from bs4 import BeautifulSoup\n",
    "    try:\n",
    "        response = get_page(trabajo_link)\n",
    "        result_page = BeautifulSoup(response.content,'lxml')\n",
    "        anuncio_list = get_anuncio_list(result_page)\n",
    "        description_list = get_job_description(result_page)\n",
    "        empresa_name = get_name_empresa(result_page)\n",
    "        output = unify_lists([empresa_name, anuncio_list, description_list])\n",
    "        return output\n",
    "    except:\n",
    "        return None"
   ]
  },
  {
   "cell_type": "code",
   "execution_count": 3,
   "metadata": {},
   "outputs": [],
   "source": [
    "def get_page(url):\n",
    "    response = requests.get(url)\n",
    "    if not response.status_code == 200:\n",
    "        print(\"It didn't work\")\n",
    "    return response"
   ]
  },
  {
   "cell_type": "code",
   "execution_count": 4,
   "metadata": {},
   "outputs": [],
   "source": [
    "def get_anuncio_list(result_page):\n",
    "    '''This function recover the information concerning ID Empleo, Categoria, Ubicación, etc'''\n",
    "    anuncio_list = []\n",
    "    for info in result_page.find_all('div', class_='smallListingInfo'):\n",
    "        if not 'Primera' in info.get_text(): #Exclude 'Primera Publicacion'\n",
    "            if not 'Contrato' in info.get_text():\n",
    "                anuncio_item = info.get_text()\n",
    "                anuncio_item = anuncio_item[anuncio_item.find(':')+2:]\n",
    "                anuncio_list.append(anuncio_item.replace('\\n',''))  #Get items without \\n\n",
    "                #anuncio_list.append(info.get_text().replace('\\n',''))\n",
    "    return anuncio_list"
   ]
  },
  {
   "cell_type": "code",
   "execution_count": 5,
   "metadata": {},
   "outputs": [],
   "source": [
    "def get_job_description(result_page):\n",
    "    text = ''\n",
    "    for paragraph in result_page.find_all('p'):\n",
    "        if paragraph.text != \"\\n\":\n",
    "            text = text + paragraph.text\n",
    "    text = clean_text(text)\n",
    "    return text"
   ]
  },
  {
   "cell_type": "code",
   "execution_count": 6,
   "metadata": {},
   "outputs": [],
   "source": [
    "def get_name_empresa(result_page):\n",
    "    Enterprise_information = result_page.find('div', class_ = 'compProfileInfo')\n",
    "    return Enterprise_information.find('strong').get_text()"
   ]
  },
  {
   "cell_type": "code",
   "execution_count": 7,
   "metadata": {},
   "outputs": [],
   "source": [
    "def clean_text(text):\n",
    "    import unidecode\n",
    "    text = text.lower().replace('\\n','') #Get items without \\n\n",
    "    text = re.sub(\"(\\(\\w+\\))\", '', text) #Delete parenthesis\n",
    "    text = unidecode.unidecode(text) #Delete accents\n",
    "    text = re.sub('[^A-Za-z0-9\\s]','',text) #Delete anything but letters, numbers and spaces\n",
    "    return text"
   ]
  },
  {
   "cell_type": "code",
   "execution_count": 8,
   "metadata": {},
   "outputs": [],
   "source": [
    "def unify_lists(job_list):\n",
    "    new_list = []\n",
    "    new_list.append(job_list[0])\n",
    "    for element in job_list[1]:\n",
    "        new_list.append(element)\n",
    "    new_list.append(job_list[2])\n",
    "    return new_list"
   ]
  },
  {
   "cell_type": "code",
   "execution_count": 9,
   "metadata": {},
   "outputs": [],
   "source": [
    "trabajo_link = \"https://www.trabajopolis.bo/oferta-de-trabajo-y-empleo-en-bolivia/695472/Analista-de-Tesorería.html?searchId=1545862649.53&page=1\"\n",
    "response = get_page(trabajo_link)\n",
    "result_page = BeautifulSoup(response.content,'lxml')\n",
    "anuncio_list = get_anuncio_list(result_page)\n",
    "#description_list = get_job_description(result_page)\n",
    "#empresa_name = get_name_empresa(result_page)\n",
    "#output = unify_lists([empresa_name, anuncio_list, description_list])"
   ]
  },
  {
   "cell_type": "code",
   "execution_count": 10,
   "metadata": {},
   "outputs": [
    {
     "data": {
      "text/plain": [
       "['695472',\n",
       " 'Santa Cruz de la Sierra, Bolivia',\n",
       " 'Contabilidad y Economía ',\n",
       " 'De Bs. 3.000 a Bs. 3.999 ',\n",
       " '19 Diciembre 2018',\n",
       " '18 Enero 2019']"
      ]
     },
     "execution_count": 10,
     "metadata": {},
     "output_type": "execute_result"
    }
   ],
   "source": [
    "anuncio_list"
   ]
  },
  {
   "cell_type": "code",
   "execution_count": 11,
   "metadata": {},
   "outputs": [
    {
     "data": {
      "text/plain": [
       "['NOSSAMODA SRL',\n",
       " '695472',\n",
       " 'Santa Cruz de la Sierra, Bolivia',\n",
       " 'Contabilidad y Economía ',\n",
       " 'De Bs. 3.000 a Bs. 3.999 ',\n",
       " '19 Diciembre 2018',\n",
       " '18 Enero 2019',\n",
       " 'analista de tesoreria formacion titulado en auditoria financiera contaduria publica contaduria general o ramas afines experiencia y conocimientos  tres  anos de experiencia laboral en cargos de igual responsabilidad  elaboracion de conciliaciones bancarias y arqueos de caja elaboracion de flujos de caja gestion de pagos a proveedores locales y extranjeros seguimiento de cuentas pendientes de cobro y depositos de cobranzas del dia  preparacion de estados de cuentas por cobrar y pagar y control de emision de cheques registro contable de pagos a proveedores sueldos finiquitos etc  registro contable de cobros a clientes depositos transferencias etc  conocimiento en sistema contable sai   solidos manejo de windows office excel powerpoint outlook y word competencias  responsabilidad  organizacion  atencion a los detalles las personas interesadas que cumplan con el perfil podran remitir su curriculum vitae indicando su pretension salarial por trabajopolisbo']"
      ]
     },
     "execution_count": 11,
     "metadata": {},
     "output_type": "execute_result"
    }
   ],
   "source": [
    "get_job_info(trabajo_link)"
   ]
  },
  {
   "cell_type": "code",
   "execution_count": 12,
   "metadata": {},
   "outputs": [],
   "source": [
    "def trabajopolis(job_description):\n",
    "    import time\n",
    "\n",
    "    \"\"\" A partir de una (o más) palabras claves  \"\"\"\n",
    "    trabajos_list = []\n",
    "    import requests\n",
    "    from bs4 import BeautifulSoup\n",
    "    for job in job_description:\n",
    "        url = \"http://www.trabajopolis.bo/search-results-jobs/?action=search&listing_type%5Bequal%5D=Job&listings_order_by=desc&JobCategory%5Bmulti_like%5D%5B%5D=&CityBolivia%5Bmulti_like%5D%5B%5D=&PostedWithin%5Bmulti_like%5D%5B%5D=&EmploymentType%5Bmulti_like%5D%5B%5D=&keywords%5Bany_words%5D=\"+ job + \"&page=1&listings_per_page=1000\"\n",
    "        response = requests.get(url)\n",
    "        if response.status_code == 200:\n",
    "            print(\"The request response cycle was successful\")\n",
    "            results_page = BeautifulSoup(response.content,'lxml')\n",
    "            #trabajo_list = list()\n",
    "            trabajos = results_page.findAll('td',{\"class\":\"anuncio-estandar-content\"})\n",
    "            for anuncio in trabajos:\n",
    "                trabajo_link = anuncio.find('a').get('href')\n",
    "                trabajo_name = anuncio.find('b').get_text()\n",
    "                print(trabajo_link)\n",
    "             #   trabajo_list.append((trabajo_name,trabajo_link))\n",
    "            #for trabajo in trabajo_list:\n",
    "                output = get_job_info(trabajo_link)\n",
    "                trabajos_list.append((output,trabajo_name,trabajo_link))\n",
    "            #I need to create a list that save all the extracted data\n",
    "        else:\n",
    "            print(\"The request response cycle work didn't work\")\n",
    "        time.sleep(10) \n",
    "    return trabajos_list"
   ]
  },
  {
   "cell_type": "code",
   "execution_count": 13,
   "metadata": {},
   "outputs": [],
   "source": [
    "job_names = [\"analista\", \"desarrollador\", \"programador\", \"quimico\", \"finanzas\", \"mensajero\", \"albañil\"]\n",
    "job_names1 = [\"Administración\", \"Oficina\", \"Atención\", \"Cliente\", \"Banca\", \"Contabilidad\"]\n",
    "job_names2 = [\"Economía\", \"Dirección\", \"Gerencia\", \"Diseño\", \"Marketing\", \"Ventas\"]\n",
    "job_names3 = [\"Vendedor\", \"Medicina\", \"Profesor\", \"Técnico\", \"Educación\", \"Legal\", \"Asesoría\", \"Turismo\"]"
   ]
  },
  {
   "cell_type": "code",
   "execution_count": null,
   "metadata": {},
   "outputs": [
    {
     "name": "stdout",
     "output_type": "stream",
     "text": [
      "The request response cycle was successful\n",
      "https://www.trabajopolis.bo/oferta-de-trabajo-y-empleo-en-bolivia/698401/Jefe-de-Planillas.html?searchId=1546394965.33&page=1\n",
      "https://www.trabajopolis.bo/oferta-de-trabajo-y-empleo-en-bolivia/698385/Analista-de-Procesos-O&M.html?searchId=1546394965.33&page=1\n",
      "https://www.trabajopolis.bo/oferta-de-trabajo-y-empleo-en-bolivia/698135/Cobrador(a)---La-Paz.html?searchId=1546394965.33&page=1\n",
      "https://www.trabajopolis.bo/oferta-de-trabajo-y-empleo-en-bolivia/698137/Cobrador(a)---Santa-Cruz.html?searchId=1546394965.33&page=1\n",
      "https://www.trabajopolis.bo/oferta-de-trabajo-y-empleo-en-bolivia/691224/Coordinador(a)-de-Ventas.html?searchId=1546394965.33&page=1\n",
      "https://www.trabajopolis.bo/oferta-de-trabajo-y-empleo-en-bolivia/691738/Auditor(a)-Financiero(a)-y-o-Contador(a)-Público(a).html?searchId=1546394965.33&page=1\n",
      "https://www.trabajopolis.bo/oferta-de-trabajo-y-empleo-en-bolivia/697994/Encargado(a)-de-Archivo---La-Paz.html?searchId=1546394965.33&page=1\n",
      "https://www.trabajopolis.bo/oferta-de-trabajo-y-empleo-en-bolivia/697986/Ejecutivo(a)-de-Negocios---Santa-Cruz.html?searchId=1546394965.33&page=1\n",
      "https://www.trabajopolis.bo/oferta-de-trabajo-y-empleo-en-bolivia/697864/Analista-de-Activos-Fijos.html?searchId=1546394965.33&page=1\n",
      "https://www.trabajopolis.bo/oferta-de-trabajo-y-empleo-en-bolivia/697922/Programa-de-Desarrollo-Comercial---Santa-Cruz.html?searchId=1546394965.33&page=1\n",
      "https://www.trabajopolis.bo/oferta-de-trabajo-y-empleo-en-bolivia/690277/Responsable-de-Diseño-y-Comunicación.html?searchId=1546394965.33&page=1\n",
      "https://www.trabajopolis.bo/oferta-de-trabajo-y-empleo-en-bolivia/697569/Asistente-de-Decanatura-Académica---Cochabamba.html?searchId=1546394965.33&page=1\n",
      "https://www.trabajopolis.bo/oferta-de-trabajo-y-empleo-en-bolivia/697562/Asistente-de-Archivo,-Registro-y-Control-Académico---Cochabamba.html?searchId=1546394965.33&page=1\n",
      "https://www.trabajopolis.bo/oferta-de-trabajo-y-empleo-en-bolivia/692431/Responsable-Administrativo(a)---Santa-Cruz.html?searchId=1546394965.33&page=1\n",
      "https://www.trabajopolis.bo/oferta-de-trabajo-y-empleo-en-bolivia/697550/Director(a)-de-la-Carrera-Administración-de-Hotelería-y-Turismo---Santa-Cruz.html?searchId=1546394965.33&page=1\n",
      "https://www.trabajopolis.bo/oferta-de-trabajo-y-empleo-en-bolivia/697521/Recepcionista.html?searchId=1546394965.33&page=1\n",
      "https://www.trabajopolis.bo/oferta-de-trabajo-y-empleo-en-bolivia/697766/Jefe-de-Agencia---Trinidad.html?searchId=1546394965.33&page=1\n",
      "https://www.trabajopolis.bo/oferta-de-trabajo-y-empleo-en-bolivia/697770/Jefe-de-Agencia---Yapacaní.html?searchId=1546394965.33&page=1\n",
      "https://www.trabajopolis.bo/oferta-de-trabajo-y-empleo-en-bolivia/689561/Asistente-de-Gestión-Humana---La-Paz.html?searchId=1546394965.33&page=1\n",
      "https://www.trabajopolis.bo/oferta-de-trabajo-y-empleo-en-bolivia/697771/Auxiliar-Contable---Santa-Cruz.html?searchId=1546394965.33&page=1\n",
      "https://www.trabajopolis.bo/oferta-de-trabajo-y-empleo-en-bolivia/697780/Auxiliar-de-Recursos-Humanos---Santa-Cruz.html?searchId=1546394965.33&page=1\n",
      "https://www.trabajopolis.bo/oferta-de-trabajo-y-empleo-en-bolivia/697767/Administrador(a)-Regional---Santa-Cruz.html?searchId=1546394965.33&page=1\n",
      "https://www.trabajopolis.bo/oferta-de-trabajo-y-empleo-en-bolivia/696667/Encargado(a)-de-Cobranza---Cochabamba.html?searchId=1546394965.33&page=1\n",
      "https://www.trabajopolis.bo/oferta-de-trabajo-y-empleo-en-bolivia/697548/Abogado(a)-Júnior.html?searchId=1546394965.33&page=1\n",
      "https://www.trabajopolis.bo/oferta-de-trabajo-y-empleo-en-bolivia/697555/Jefe-de-Unidad-de-Logística-y-Distribución.html?searchId=1546394965.33&page=1\n",
      "https://www.trabajopolis.bo/oferta-de-trabajo-y-empleo-en-bolivia/697362/Cajero(a).html?searchId=1546394965.33&page=1\n",
      "https://www.trabajopolis.bo/oferta-de-trabajo-y-empleo-en-bolivia/697409/Encargado(a)-de-Mantenimiento-General.html?searchId=1546394965.33&page=1\n",
      "https://www.trabajopolis.bo/oferta-de-trabajo-y-empleo-en-bolivia/689580/Encargado(a)-de-Ventas-y-Mensajería---Cochabamba.html?searchId=1546394965.33&page=1\n",
      "https://www.trabajopolis.bo/oferta-de-trabajo-y-empleo-en-bolivia/689912/Jefe-Regional-de-Marketing---La-Paz.html?searchId=1546394965.33&page=1\n",
      "https://www.trabajopolis.bo/oferta-de-trabajo-y-empleo-en-bolivia/689575/Analista-Contable---Santa-Cruz.html?searchId=1546394965.33&page=1\n",
      "https://www.trabajopolis.bo/oferta-de-trabajo-y-empleo-en-bolivia/697137/Recepcionista---Asistente---Cochabamba.html?searchId=1546394965.33&page=1\n"
     ]
    }
   ],
   "source": [
    "Results = trabajopolis(job_names1)"
   ]
  },
  {
   "cell_type": "code",
   "execution_count": null,
   "metadata": {},
   "outputs": [],
   "source": [
    "import csv\n",
    "outfile = open(\"/Users/Roberto/Documents/Python Scripts/Machine Learning Projects/Labor Market/trabajo.csv\", 'a',newline='')\n",
    "writer = csv.writer(outfile)\n",
    "try:\n",
    "    for i in range(len(Results)):\n",
    "        csvRow = []\n",
    "        for cell in Results[i][0]:\n",
    "            #print(cell)\n",
    "           csvRow.append(cell)\n",
    "        csvRow.append(Results[i][1])\n",
    "        csvRow.append(Results[i][2])\n",
    "        #print(csvRow)\n",
    "        writer.writerow(csvRow)\n",
    "finally:\n",
    "    outfile.close() "
   ]
  },
  {
   "cell_type": "code",
   "execution_count": null,
   "metadata": {},
   "outputs": [],
   "source": []
  }
 ],
 "metadata": {
  "kernelspec": {
   "display_name": "Python 3",
   "language": "python",
   "name": "python3"
  },
  "language_info": {
   "codemirror_mode": {
    "name": "ipython",
    "version": 3
   },
   "file_extension": ".py",
   "mimetype": "text/x-python",
   "name": "python",
   "nbconvert_exporter": "python",
   "pygments_lexer": "ipython3",
   "version": "3.6.7"
  }
 },
 "nbformat": 4,
 "nbformat_minor": 2
}
