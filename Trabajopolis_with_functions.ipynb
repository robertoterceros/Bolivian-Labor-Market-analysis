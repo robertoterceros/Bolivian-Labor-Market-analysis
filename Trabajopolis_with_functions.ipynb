{
 "cells": [
  {
   "cell_type": "code",
   "execution_count": 331,
   "metadata": {},
   "outputs": [],
   "source": [
    "import requests\n",
    "from bs4 import BeautifulSoup\n",
    "import pymysql\n",
    "import re"
   ]
  },
  {
   "cell_type": "code",
   "execution_count": 335,
   "metadata": {},
   "outputs": [],
   "source": [
    "def get_job_info(trabajo_link):\n",
    "    \"\"\"El input es un enlace que dirige a una única oferta de trabajo. Devuelve un tuple con la información más relevante: descripción del anuncio y del trabajo\"\"\"\n",
    "    anuncio_list = []\n",
    "    description_list = []\n",
    "    import requests\n",
    "    from bs4 import BeautifulSoup\n",
    "    try:\n",
    "        response = get_page(trabajo_link)\n",
    "        result_page = BeautifulSoup(response.content,'lxml')\n",
    "        anuncio_list = get_anuncio_list(result_page)\n",
    "        description_list = get_job_description(result_page)\n",
    "        empresa_name = get_name_empresa(result_page)\n",
    "        output = unify_lists([empresa_name, anuncio_list, description_list])\n",
    "        return output\n",
    "    except:\n",
    "        return None"
   ]
  },
  {
   "cell_type": "code",
   "execution_count": 337,
   "metadata": {},
   "outputs": [],
   "source": [
    "def get_page(url):\n",
    "    response = requests.get(url)\n",
    "    if not response.status_code == 200:\n",
    "        print(\"It didn't work\")\n",
    "    return response"
   ]
  },
  {
   "cell_type": "code",
   "execution_count": 338,
   "metadata": {},
   "outputs": [],
   "source": [
    "def get_anuncio_list(result_page):\n",
    "    '''This function recover the information concerning ID Empleo, Categoria, Ubicación, etc'''\n",
    "    anuncio_list = []\n",
    "    for info in result_page.find_all('div', class_='smallListingInfo'): \n",
    "        anuncio_list.append(info.get_text())\n",
    "    #Delete \\n\n",
    "    #anuncio_list[5] = anuncio_list[5][1:-1]\n",
    "    #anuncio_list[6] = anuncio_list[6][1:-2]\n",
    "    #anuncio_list[7] = anuncio_list[7][1:-1]\n",
    "    return anuncio_list"
   ]
  },
  {
   "cell_type": "code",
   "execution_count": 339,
   "metadata": {},
   "outputs": [],
   "source": [
    "def get_job_description(result_page):\n",
    "    text = ''\n",
    "    for paragraph in result_page.find_all('p'):\n",
    "        if paragraph.text != \"\\n\":\n",
    "            text = text + paragraph.text\n",
    "    text = clean_text(text)\n",
    "    return text"
   ]
  },
  {
   "cell_type": "code",
   "execution_count": 340,
   "metadata": {},
   "outputs": [],
   "source": [
    "def get_name_empresa(result_page):\n",
    "    #response = get_page(trabajo_link)\n",
    "    #result_page = BeautifulSoup(response.content,'lxml')\n",
    "    Enterprise_information = result_page.find('div', class_ = 'compProfileInfo')\n",
    "    #for paragraph in hola.find('strong'):\n",
    "    #    print(paragraph)\n",
    "    return Enterprise_information.find('strong').get_text()"
   ]
  },
  {
   "cell_type": "code",
   "execution_count": 341,
   "metadata": {},
   "outputs": [],
   "source": [
    "def clean_text(text):\n",
    "    import unidecode\n",
    "    text = text.lower()\n",
    "    text = re.sub(\"(\\(\\w+\\))\", '', text) #Delete parenthesis\n",
    "    text = unidecode.unidecode(text) #Delete accents\n",
    "    text = re.sub('[^A-Za-z0-9\\s]','',text) #Delete anything but letters, numbers and spaces\n",
    "    return text"
   ]
  },
  {
   "cell_type": "code",
   "execution_count": 342,
   "metadata": {},
   "outputs": [],
   "source": [
    "def unify_lists(job_list):\n",
    "    new_list = []\n",
    "    new_list.append(job_list[0])\n",
    "    for element in job_list[1]:\n",
    "        new_list.append(element)\n",
    "    new_list.append(job_list[2])\n",
    "    return new_list"
   ]
  },
  {
   "cell_type": "code",
   "execution_count": 184,
   "metadata": {},
   "outputs": [],
   "source": [
    "trabajo_link = \"https://www.trabajopolis.bo/oferta-de-trabajo-y-empleo-en-bolivia/688703/Analista-de-Compras---Santa-Cruz.html?searchId=1545853046.74&page=1\""
   ]
  },
  {
   "cell_type": "code",
   "execution_count": 333,
   "metadata": {},
   "outputs": [
    {
     "ename": "NameError",
     "evalue": "name 'get_page' is not defined",
     "output_type": "error",
     "traceback": [
      "\u001b[1;31m---------------------------------------------------------------------------\u001b[0m",
      "\u001b[1;31mNameError\u001b[0m                                 Traceback (most recent call last)",
      "\u001b[1;32m<ipython-input-333-820648bd1172>\u001b[0m in \u001b[0;36m<module>\u001b[1;34m\u001b[0m\n\u001b[0;32m      1\u001b[0m \u001b[0mtrabajo_link\u001b[0m \u001b[1;33m=\u001b[0m \u001b[1;34m\"https://www.trabajopolis.bo/oferta-de-trabajo-y-empleo-en-bolivia/695472/Analista-de-Tesorería.html?searchId=1545862649.53&page=1\"\u001b[0m\u001b[1;33m\u001b[0m\u001b[1;33m\u001b[0m\u001b[0m\n\u001b[1;32m----> 2\u001b[1;33m \u001b[0mresponse\u001b[0m \u001b[1;33m=\u001b[0m \u001b[0mget_page\u001b[0m\u001b[1;33m(\u001b[0m\u001b[0mtrabajo_link\u001b[0m\u001b[1;33m)\u001b[0m\u001b[1;33m\u001b[0m\u001b[1;33m\u001b[0m\u001b[0m\n\u001b[0m\u001b[0;32m      3\u001b[0m \u001b[0mresult_page\u001b[0m \u001b[1;33m=\u001b[0m \u001b[0mBeautifulSoup\u001b[0m\u001b[1;33m(\u001b[0m\u001b[0mresponse\u001b[0m\u001b[1;33m.\u001b[0m\u001b[0mcontent\u001b[0m\u001b[1;33m,\u001b[0m\u001b[1;34m'lxml'\u001b[0m\u001b[1;33m)\u001b[0m\u001b[1;33m\u001b[0m\u001b[1;33m\u001b[0m\u001b[0m\n\u001b[0;32m      4\u001b[0m \u001b[0manuncio_list\u001b[0m \u001b[1;33m=\u001b[0m \u001b[0mget_anuncio_list\u001b[0m\u001b[1;33m(\u001b[0m\u001b[0mresult_page\u001b[0m\u001b[1;33m)\u001b[0m\u001b[1;33m\u001b[0m\u001b[1;33m\u001b[0m\u001b[0m\n\u001b[0;32m      5\u001b[0m \u001b[1;31m#description_list = get_job_description(result_page)\u001b[0m\u001b[1;33m\u001b[0m\u001b[1;33m\u001b[0m\u001b[1;33m\u001b[0m\u001b[0m\n",
      "\u001b[1;31mNameError\u001b[0m: name 'get_page' is not defined"
     ]
    }
   ],
   "source": [
    "trabajo_link = \"https://www.trabajopolis.bo/oferta-de-trabajo-y-empleo-en-bolivia/695472/Analista-de-Tesorería.html?searchId=1545862649.53&page=1\"\n",
    "response = get_page(trabajo_link)\n",
    "result_page = BeautifulSoup(response.content,'lxml')\n",
    "anuncio_list = get_anuncio_list(result_page)\n",
    "#description_list = get_job_description(result_page)\n",
    "#empresa_name = get_name_empresa(result_page)\n",
    "#output = unify_lists([empresa_name, anuncio_list, description_list])"
   ]
  },
  {
   "cell_type": "code",
   "execution_count": 343,
   "metadata": {},
   "outputs": [
    {
     "data": {
      "text/plain": [
       "['NOSSAMODA SRL',\n",
       " 'ID Empleo: 695472',\n",
       " 'Ubicación: Santa Cruz de la Sierra, Bolivia',\n",
       " 'Categoría: Contabilidad y Economía ',\n",
       " 'Sueldo: De Bs. 3.000 a Bs. 3.999 ',\n",
       " 'Contrato: Tiempo Completo',\n",
       " '\\nPublicado: 19 Diciembre 2018\\n',\n",
       " '\\nVencimiento: 18 Enero 2019\\n\\n',\n",
       " 'analista de tesoreria formacion titulado en auditoria financiera contaduria publica contaduria general o ramas afines experiencia y conocimientos  tres  anos de experiencia laboral en cargos de igual responsabilidad  elaboracion de conciliaciones bancarias y arqueos de caja elaboracion de flujos de caja gestion de pagos a proveedores locales y extranjeros seguimiento de cuentas pendientes de cobro y depositos de cobranzas del dia  preparacion de estados de cuentas por cobrar y pagar y control de emision de cheques registro contable de pagos a proveedores sueldos finiquitos etc  registro contable de cobros a clientes depositos transferencias etc  conocimiento en sistema contable sai   solidos manejo de windows office excel powerpoint outlook y word competencias  responsabilidad  organizacion  atencion a los detalles las personas interesadas que cumplan con el perfil podran remitir su curriculum vitae indicando su pretension salarial por trabajopolisbo']"
      ]
     },
     "execution_count": 343,
     "metadata": {},
     "output_type": "execute_result"
    }
   ],
   "source": [
    "get_job_info(trabajo_link)"
   ]
  },
  {
   "cell_type": "code",
   "execution_count": 269,
   "metadata": {},
   "outputs": [
    {
     "data": {
      "text/plain": [
       "'analista de contabilidad formacion academica titulados en contabilidad o auditoria funciones  recepcion y revision de facturas de compras preparacion de libros de compras y ventas iva bancarizacion y planilla tributaria registros contables de transacciones diarias documentos de soporte cierres mensuales atencion requerimientos internos y externos  preparacion y analisis de estados de cuentas contables  elaboracion de planillas de sueldos aportes a las afps y caja de salud  conocimiento en sistema contable sai   solidos manejo de windows office excel powerpoint outlook y word  requisitos  organizado con capacidad analitica  buenas relaciones interpersonales  trabajo en equipo  experiencia experiencia minima de 2 anos en cargos similares dentro del rubro comercial  las personas interesadas que cumplan con el perfil podran remitir su curriculum vitae indicando su pretension salarial por trabajopolisbo'"
      ]
     },
     "execution_count": 269,
     "metadata": {},
     "output_type": "execute_result"
    }
   ],
   "source": [
    "text"
   ]
  },
  {
   "cell_type": "code",
   "execution_count": 345,
   "metadata": {},
   "outputs": [],
   "source": [
    "def trabajopolis(job_description):\n",
    "    \"\"\" A partir de una (o más) palabras claves  \"\"\"\n",
    "    trabajos_list = []\n",
    "    import requests\n",
    "    from bs4 import BeautifulSoup\n",
    "    url = \"http://www.trabajopolis.bo/search-results-jobs/?action=search&listing_type%5Bequal%5D=Job&listings_order_by=desc&JobCategory%5Bmulti_like%5D%5B%5D=&CityBolivia%5Bmulti_like%5D%5B%5D=&PostedWithin%5Bmulti_like%5D%5B%5D=&EmploymentType%5Bmulti_like%5D%5B%5D=&keywords%5Bany_words%5D=\"+ job_description + \"&page=1&listings_per_page=100\"\n",
    "    \n",
    "    response = requests.get(url)\n",
    "    if response.status_code == 200:\n",
    "        print(\"The request response cycle was successful\")\n",
    "        results_page = BeautifulSoup(response.content,'lxml')\n",
    "        #trabajo_list = list()\n",
    "        trabajos = results_page.findAll('td',{\"class\":\"anuncio-estandar-content\"})\n",
    "        for anuncio in trabajos:\n",
    "            trabajo_link = anuncio.find('a').get('href')\n",
    "            trabajo_name = anuncio.find('b').get_text()\n",
    "            print(trabajo_link)\n",
    "         #   trabajo_list.append((trabajo_name,trabajo_link))\n",
    "        #for trabajo in trabajo_list:\n",
    "            output = get_job_info(trabajo_link)\n",
    "            trabajos_list.append((output,trabajo_name,trabajo_link))\n",
    "        #I need to create a list that save all the extracted data\n",
    "    else:\n",
    "        print(\"The request response cycle work didn't work\")\n",
    "    return trabajos_list"
   ]
  },
  {
   "cell_type": "code",
   "execution_count": 346,
   "metadata": {},
   "outputs": [
    {
     "name": "stdout",
     "output_type": "stream",
     "text": [
      "The request response cycle was successful\n",
      "https://www.trabajopolis.bo/oferta-de-trabajo-y-empleo-en-bolivia/689938/Jefe-de-Contabilidad-y-Tesorería.html?searchId=1545872212.12&page=1\n",
      "https://www.trabajopolis.bo/oferta-de-trabajo-y-empleo-en-bolivia/695472/Analista-de-Tesorería.html?searchId=1545872212.12&page=1\n",
      "https://www.trabajopolis.bo/oferta-de-trabajo-y-empleo-en-bolivia/694359/Analista-de-Tesorería---La-Paz.html?searchId=1545872212.12&page=1\n",
      "https://www.trabajopolis.bo/oferta-de-trabajo-y-empleo-en-bolivia/690744/Asistente-de-Tesorería.html?searchId=1545872212.12&page=1\n"
     ]
    }
   ],
   "source": [
    "Results = trabajopolis(\"tesorería\")"
   ]
  },
  {
   "cell_type": "code",
   "execution_count": 348,
   "metadata": {},
   "outputs": [
    {
     "name": "stdout",
     "output_type": "stream",
     "text": [
      "['Importante Empresa Industrial', 'ID Empleo: 689938', 'Ubicación: Santa Cruz de la Sierra, Bolivia', 'Categoría: Contabilidad y Economía ', 'Sueldo: No Declarado ', 'Contrato: Tiempo Completo', '\\nPublicado: 21 Diciembre 2018\\n', '\\nVencimiento: 20 Enero 2019\\n\\n', '\\nPrimera Publicación: 28 Noviembre 2018\\n', 'jefe de contabilidad y tesoreria\\nobjetivo del cargogestionar los procesos contables de la empresa a fin de preparar informacion financiera y economica confiable y oportuna asi como dar solucion a problemas concernientes a la elaboracion control y administracion de dicha informacion de acuerdo con principios tecnicos normas legales y tributarias\\nprincipales funciones preparar estados financieros analizar y recomendar mejoras a los diferentes procesos que se desarrollan en la empresa con base en las evaluaciones economicasfinancieras preparar y emitir comprobantes de egresos ingresos y traspasos de acuerdo con la realidad economica de las transacciones realizadas  autorizar provisiones para el pago de obligaciones y revisar los pagos realizados  preparar conciliaciones bancarias preparar las liquidaciones de obligaciones sociales y tributarias  preparar yo revisar las planillas salariales preparar los presupuestos y la informacion sobre su ejecucion  controlar los flujos de fondos y tesoreria verificar periodicamente la existencia de valores activos fijos e inventarios seguir la cobranza y conciliacion de saldos con deudores conciliar saldos con acreedores presentar la informacion requerida para los procesos de auditoria de la empresa supervisar las tareas y actividades del personal de contabilidad y tesoreria asignado\\nrequisitos titulo profesional de contaduria publica o auditoria  registro en colegio profesional  posgrados en administracion finanzas tributos u otros aspectos relacionados a la funcion  minimo 5 anos de experiencia \\nlas personas interesadas que cumplan con el perfil podran remitir su curriculo vitae indicando su pretension salarial por trabajopolisbo ', 'Jefe de Contabilidad y Tesorería', 'https://www.trabajopolis.bo/oferta-de-trabajo-y-empleo-en-bolivia/689938/Jefe-de-Contabilidad-y-Tesorería.html?searchId=1545872212.12&page=1']\n",
      "['NOSSAMODA SRL', 'ID Empleo: 695472', 'Ubicación: Santa Cruz de la Sierra, Bolivia', 'Categoría: Contabilidad y Economía ', 'Sueldo: De Bs. 3.000 a Bs. 3.999 ', 'Contrato: Tiempo Completo', '\\nPublicado: 19 Diciembre 2018\\n', '\\nVencimiento: 18 Enero 2019\\n\\n', 'analista de tesoreria formacion titulado en auditoria financiera contaduria publica contaduria general o ramas afines experiencia y conocimientos  tres  anos de experiencia laboral en cargos de igual responsabilidad  elaboracion de conciliaciones bancarias y arqueos de caja elaboracion de flujos de caja gestion de pagos a proveedores locales y extranjeros seguimiento de cuentas pendientes de cobro y depositos de cobranzas del dia  preparacion de estados de cuentas por cobrar y pagar y control de emision de cheques registro contable de pagos a proveedores sueldos finiquitos etc  registro contable de cobros a clientes depositos transferencias etc  conocimiento en sistema contable sai   solidos manejo de windows office excel powerpoint outlook y word competencias  responsabilidad  organizacion  atencion a los detalles las personas interesadas que cumplan con el perfil podran remitir su curriculum vitae indicando su pretension salarial por trabajopolisbo', 'Analista de Tesorería', 'https://www.trabajopolis.bo/oferta-de-trabajo-y-empleo-en-bolivia/695472/Analista-de-Tesorería.html?searchId=1545872212.12&page=1']\n",
      "['Univida S.A.', 'ID Empleo: 694359', 'Ubicación: La Paz, Bolivia', 'Categoría: Contabilidad y Economía ', 'Sueldo: No Declarado ', 'Contrato: Tiempo Completo', '\\nPublicado: 15 Diciembre 2018\\n', '\\nVencimiento: 14 Enero 2019\\n\\n', 'analista de tesoreriasede la paz ref 2432018ndeg de vacancias 1 plazo indefinido objetivo del cargo gestionar y participar activamente en los procesos de la unidad de tesoreria con el fin de alcanzar los objetivos y metas de la unidad efectivizando las operaciones y transacciones administrativas y registros contables aplicando las normas y procedimientos definidos coadyuvando al cumplimiento de objetivos de la empresa formaciontitulo en provision nacional a nivel de licenciatura en carreras de contaduria publica administracion de empresas yo economia experienciaexperiencia general minima de un  ano en tesoreria yo contabilidad conocimientos manejo de efectivo conocimiento de inversiones tratamiento de boletas de garantia manejo de excel  conocimientos en normativa de seguros conciliaciones bancarias estados de cuenta ley de servicios financieros 383 competencias requeridas  orientacion al cliente trabajo en equipo creatividad adaptabilidad productividad instrucciones de postulacionlas personas interesadas deberan realizar su postulacion unicamente a traves del sitio web wwwunividabo trabaja con nosotros las mismas seran recibidas mediante este portal hasta el martes 18 de diciembre de 2018', 'Analista de Tesorería - La Paz', 'https://www.trabajopolis.bo/oferta-de-trabajo-y-empleo-en-bolivia/694359/Analista-de-Tesorería---La-Paz.html?searchId=1545872212.12&page=1']\n",
      "['Grupo Empresarial Lafuente', 'ID Empleo: 690744', 'Ubicación: Santa Cruz de la Sierra, Bolivia', 'Categoría: Administración y Oficina ', 'Sueldo: No Declarado ', 'Contrato: Tiempo Completo', '\\nPublicado: 01 Diciembre 2018\\n', '\\nVencimiento: 31 Diciembre 2018\\n\\n', 'el grupo empresarial de bienes raices mas grande del pais desea incorporar a su equipo de trabajo un profesional de primer nivel para ocupar el siguiente cargo asistente de tesoreria requerimos egresado o titulado de contaduria publica experiencia minima de 1 ano en el area contable principales funcionesrealizar conciliaciones bancarias traspaso entre cuentas cuadre de caja validando lo recaudado en cuentas bancarias emision control seguimiento y custodia de cheques recepcionar y gestionar solicitudes de pago elaborar y documentar comprobantes contables traspaso de caja de tesoreria a mayor de bancos de las recaudaciones diarias de los proyectos ofrecemosremuneracion acorde al cargo y buen clima laboral invitamosa quienes reunan los requisitos solicitados enviarnos su hoja de vida actualizada y pretension salarial por la pagina de trabajopolisbo', 'Asistente de Tesorería', 'https://www.trabajopolis.bo/oferta-de-trabajo-y-empleo-en-bolivia/690744/Asistente-de-Tesorería.html?searchId=1545872212.12&page=1']\n"
     ]
    }
   ],
   "source": [
    "import csv\n",
    "outfile = open(\"/Users/Roberto/Documents/Online Learning/Python programming/Trabajopolis scraper/trabajo.csv\", 'w',newline='')\n",
    "writer = csv.writer(outfile)\n",
    "try:\n",
    "    for i in range(len(Results)):\n",
    "        csvRow = []\n",
    "        for cell in Results[i][0]:\n",
    "            #print(cell)\n",
    "            csvRow.append(cell)\n",
    "        csvRow.append(Results[i][1])\n",
    "        csvRow.append(Results[i][2])\n",
    "        print(csvRow)\n",
    "        writer.writerow(csvRow)\n",
    "finally:\n",
    "    outfile.close() "
   ]
  },
  {
   "cell_type": "code",
   "execution_count": null,
   "metadata": {},
   "outputs": [],
   "source": []
  }
 ],
 "metadata": {
  "kernelspec": {
   "display_name": "Python 3",
   "language": "python",
   "name": "python3"
  },
  "language_info": {
   "codemirror_mode": {
    "name": "ipython",
    "version": 3
   },
   "file_extension": ".py",
   "mimetype": "text/x-python",
   "name": "python",
   "nbconvert_exporter": "python",
   "pygments_lexer": "ipython3",
   "version": "3.6.7"
  }
 },
 "nbformat": 4,
 "nbformat_minor": 2
}
